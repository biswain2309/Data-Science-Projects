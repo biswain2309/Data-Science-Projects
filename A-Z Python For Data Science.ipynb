{
 "cells": [
  {
   "cell_type": "code",
   "execution_count": 1,
   "metadata": {},
   "outputs": [
    {
     "name": "stdout",
     "output_type": "stream",
     "text": [
      "0.64\n"
     ]
    }
   ],
   "source": [
    "import numpy as np\n",
    "from numpy.random import randn\n",
    "N = 100\n",
    "counter = 0\n",
    "for i in randn(N):\n",
    "    if(i > -1 and i < 1):\n",
    "        counter += 1\n",
    "answer = counter / N\n",
    "print(answer)"
   ]
  },
  {
   "cell_type": "code",
   "execution_count": 7,
   "metadata": {},
   "outputs": [
    {
     "name": "stdout",
     "output_type": "stream",
     "text": [
      "[2522.67, 1911.39, -3707.79, -2914.31, -599.92, 7265.24, 8210.55, 3944.97, 3328.39, -2238.65, 659.6, 11629.54]\n",
      "[1765.87, 1337.97, -2595.45, -2040.02, -419.94, 5085.67, 5747.38, 2761.48, 2329.87, -1567.06, 461.72, 8140.68]\n",
      "[12.12, 17.59, -30.14, -22.23, -5.21, 62.74, 49.99, 28.28, 22.61, -10.9, 4.31, 52.75]\n",
      "1750.6808333333333\n",
      "[True, False, False, False, False, True, True, True, True, False, False, True]\n",
      "[False, True, True, True, True, False, False, False, False, True, True, False]\n",
      "[False, False, False, False, False, False, False, False, False, False, False, True]\n",
      "[False, False, True, False, False, False, False, False, False, False, False, False]\n"
     ]
    }
   ],
   "source": [
    "import statistics\n",
    "#Data \n",
    "revenue = [14574.49, 7606.46, 8611.41, 9175.41, 8058.65, 8105.44, 11496.28, 9766.09, 10305.32, 14379.96, 10713.97, 15433.50]\n",
    "expenses = [12051.82, 5695.07, 12319.20, 12089.72, 8658.57, 840.20, 3285.73, 5821.12, 6976.93, 16618.61, 10054.37, 3803.96]\n",
    "profit=[]\n",
    "profit_after_tax = []\n",
    "profit_margin = []\n",
    "pos_good_month = []\n",
    "pos_bad_month = []\n",
    "best_month = []\n",
    "worst_month = []\n",
    "\n",
    "for (i,j) in zip(revenue,expenses):\n",
    "    profit_tmp = round(i - j,2)\n",
    "    profit.append(profit_tmp)\n",
    "    pr_aft_tax = round(profit_tmp * 0.7,2)\n",
    "    profit_after_tax.append(pr_aft_tax)\n",
    "    pr_margin = round((pr_aft_tax/i)*100,2)\n",
    "    profit_margin.append(pr_margin)\n",
    "print(profit)\n",
    "print(profit_after_tax)\n",
    "print(profit_margin)\n",
    "for k in profit_after_tax:\n",
    "    mean_profit_after_tax = statistics.mean(profit_after_tax)\n",
    "    pos_good_month.append(k > mean_profit_after_tax)\n",
    "    pos_bad_month.append(k < mean_profit_after_tax)\n",
    "    best_month.append(max(profit_after_tax) == k)\n",
    "    worst_month.append(min(profit_after_tax) == k)\n",
    "print(mean_profit_after_tax)\n",
    "print(pos_good_month)\n",
    "print(pos_bad_month)\n",
    "print(best_month)\n",
    "print(worst_month)\n"
   ]
  },
  {
   "cell_type": "code",
   "execution_count": null,
   "metadata": {},
   "outputs": [],
   "source": []
  }
 ],
 "metadata": {
  "kernelspec": {
   "display_name": "Python 3",
   "language": "python",
   "name": "python3"
  },
  "language_info": {
   "codemirror_mode": {
    "name": "ipython",
    "version": 3
   },
   "file_extension": ".py",
   "mimetype": "text/x-python",
   "name": "python",
   "nbconvert_exporter": "python",
   "pygments_lexer": "ipython3",
   "version": "3.7.6"
  }
 },
 "nbformat": 4,
 "nbformat_minor": 4
}
